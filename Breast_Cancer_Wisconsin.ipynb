{
  "cells": [
    {
      "cell_type": "markdown",
      "metadata": {
        "id": "2HHb9h8GWulL"
      },
      "source": [
        "# Imports needed"
      ]
    },
    {
      "cell_type": "code",
      "execution_count": 1,
      "metadata": {
        "_cell_guid": "b1076dfc-b9ad-4769-8c92-a6c4dae69d19",
        "_uuid": "8f2839f25d086af736a60e9eeb907d3b93b6e0e5",
        "execution": {
          "iopub.execute_input": "2022-02-15T21:12:33.468825Z",
          "iopub.status.busy": "2022-02-15T21:12:33.468462Z",
          "iopub.status.idle": "2022-02-15T21:12:33.493423Z",
          "shell.execute_reply": "2022-02-15T21:12:33.492820Z",
          "shell.execute_reply.started": "2022-02-15T21:12:33.468791Z"
        },
        "id": "uqplbSE1WulN",
        "trusted": true
      },
      "outputs": [],
      "source": [
        "import numpy as np\n",
        "import pandas as pd \n",
        "import matplotlib.pyplot as plt\n",
        "import seaborn as sns\n",
        "from sklearn.preprocessing import StandardScaler\n",
        "from sklearn.metrics import classification_report\n",
        "from sklearn.metrics import confusion_matrix\n",
        "%matplotlib inline\n"
      ]
    },
    {
      "cell_type": "markdown",
      "metadata": {
        "id": "sPKJTZTUWulR"
      },
      "source": [
        "# Reading and cleaning the data"
      ]
    },
    {
      "cell_type": "code",
      "execution_count": 3,
      "metadata": {
        "execution": {
          "iopub.execute_input": "2022-02-15T21:12:33.495363Z",
          "iopub.status.busy": "2022-02-15T21:12:33.494831Z",
          "iopub.status.idle": "2022-02-15T21:12:33.506731Z",
          "shell.execute_reply": "2022-02-15T21:12:33.505688Z",
          "shell.execute_reply.started": "2022-02-15T21:12:33.495329Z"
        },
        "id": "-jlSxIzeWulS",
        "trusted": true
      },
      "outputs": [],
      "source": [
        "cancer_df = pd.read_csv('data.csv')"
      ]
    },
    {
      "cell_type": "code",
      "execution_count": 4,
      "metadata": {
        "colab": {
          "base_uri": "https://localhost:8080/",
          "height": 288
        },
        "execution": {
          "iopub.execute_input": "2022-02-15T21:12:33.508391Z",
          "iopub.status.busy": "2022-02-15T21:12:33.508113Z",
          "iopub.status.idle": "2022-02-15T21:12:33.535771Z",
          "shell.execute_reply": "2022-02-15T21:12:33.534890Z",
          "shell.execute_reply.started": "2022-02-15T21:12:33.508358Z"
        },
        "id": "vpF999XxWulT",
        "outputId": "4f4e334c-b5f2-4011-fe79-c722cc5530fd",
        "trusted": true
      },
      "outputs": [
        {
          "data": {
            "text/html": [
              "<div>\n",
              "<style scoped>\n",
              "    .dataframe tbody tr th:only-of-type {\n",
              "        vertical-align: middle;\n",
              "    }\n",
              "\n",
              "    .dataframe tbody tr th {\n",
              "        vertical-align: top;\n",
              "    }\n",
              "\n",
              "    .dataframe thead th {\n",
              "        text-align: right;\n",
              "    }\n",
              "</style>\n",
              "<table border=\"1\" class=\"dataframe\">\n",
              "  <thead>\n",
              "    <tr style=\"text-align: right;\">\n",
              "      <th></th>\n",
              "      <th>id</th>\n",
              "      <th>diagnosis</th>\n",
              "      <th>radius_mean</th>\n",
              "      <th>texture_mean</th>\n",
              "      <th>perimeter_mean</th>\n",
              "      <th>area_mean</th>\n",
              "      <th>smoothness_mean</th>\n",
              "      <th>compactness_mean</th>\n",
              "      <th>concavity_mean</th>\n",
              "      <th>concave points_mean</th>\n",
              "      <th>...</th>\n",
              "      <th>texture_worst</th>\n",
              "      <th>perimeter_worst</th>\n",
              "      <th>area_worst</th>\n",
              "      <th>smoothness_worst</th>\n",
              "      <th>compactness_worst</th>\n",
              "      <th>concavity_worst</th>\n",
              "      <th>concave points_worst</th>\n",
              "      <th>symmetry_worst</th>\n",
              "      <th>fractal_dimension_worst</th>\n",
              "      <th>Unnamed: 32</th>\n",
              "    </tr>\n",
              "  </thead>\n",
              "  <tbody>\n",
              "    <tr>\n",
              "      <th>0</th>\n",
              "      <td>842302</td>\n",
              "      <td>M</td>\n",
              "      <td>17.99</td>\n",
              "      <td>10.38</td>\n",
              "      <td>122.80</td>\n",
              "      <td>1001.0</td>\n",
              "      <td>0.11840</td>\n",
              "      <td>0.27760</td>\n",
              "      <td>0.3001</td>\n",
              "      <td>0.14710</td>\n",
              "      <td>...</td>\n",
              "      <td>17.33</td>\n",
              "      <td>184.60</td>\n",
              "      <td>2019.0</td>\n",
              "      <td>0.1622</td>\n",
              "      <td>0.6656</td>\n",
              "      <td>0.7119</td>\n",
              "      <td>0.2654</td>\n",
              "      <td>0.4601</td>\n",
              "      <td>0.11890</td>\n",
              "      <td>NaN</td>\n",
              "    </tr>\n",
              "    <tr>\n",
              "      <th>1</th>\n",
              "      <td>842517</td>\n",
              "      <td>M</td>\n",
              "      <td>20.57</td>\n",
              "      <td>17.77</td>\n",
              "      <td>132.90</td>\n",
              "      <td>1326.0</td>\n",
              "      <td>0.08474</td>\n",
              "      <td>0.07864</td>\n",
              "      <td>0.0869</td>\n",
              "      <td>0.07017</td>\n",
              "      <td>...</td>\n",
              "      <td>23.41</td>\n",
              "      <td>158.80</td>\n",
              "      <td>1956.0</td>\n",
              "      <td>0.1238</td>\n",
              "      <td>0.1866</td>\n",
              "      <td>0.2416</td>\n",
              "      <td>0.1860</td>\n",
              "      <td>0.2750</td>\n",
              "      <td>0.08902</td>\n",
              "      <td>NaN</td>\n",
              "    </tr>\n",
              "    <tr>\n",
              "      <th>2</th>\n",
              "      <td>84300903</td>\n",
              "      <td>M</td>\n",
              "      <td>19.69</td>\n",
              "      <td>21.25</td>\n",
              "      <td>130.00</td>\n",
              "      <td>1203.0</td>\n",
              "      <td>0.10960</td>\n",
              "      <td>0.15990</td>\n",
              "      <td>0.1974</td>\n",
              "      <td>0.12790</td>\n",
              "      <td>...</td>\n",
              "      <td>25.53</td>\n",
              "      <td>152.50</td>\n",
              "      <td>1709.0</td>\n",
              "      <td>0.1444</td>\n",
              "      <td>0.4245</td>\n",
              "      <td>0.4504</td>\n",
              "      <td>0.2430</td>\n",
              "      <td>0.3613</td>\n",
              "      <td>0.08758</td>\n",
              "      <td>NaN</td>\n",
              "    </tr>\n",
              "    <tr>\n",
              "      <th>3</th>\n",
              "      <td>84348301</td>\n",
              "      <td>M</td>\n",
              "      <td>11.42</td>\n",
              "      <td>20.38</td>\n",
              "      <td>77.58</td>\n",
              "      <td>386.1</td>\n",
              "      <td>0.14250</td>\n",
              "      <td>0.28390</td>\n",
              "      <td>0.2414</td>\n",
              "      <td>0.10520</td>\n",
              "      <td>...</td>\n",
              "      <td>26.50</td>\n",
              "      <td>98.87</td>\n",
              "      <td>567.7</td>\n",
              "      <td>0.2098</td>\n",
              "      <td>0.8663</td>\n",
              "      <td>0.6869</td>\n",
              "      <td>0.2575</td>\n",
              "      <td>0.6638</td>\n",
              "      <td>0.17300</td>\n",
              "      <td>NaN</td>\n",
              "    </tr>\n",
              "    <tr>\n",
              "      <th>4</th>\n",
              "      <td>84358402</td>\n",
              "      <td>M</td>\n",
              "      <td>20.29</td>\n",
              "      <td>14.34</td>\n",
              "      <td>135.10</td>\n",
              "      <td>1297.0</td>\n",
              "      <td>0.10030</td>\n",
              "      <td>0.13280</td>\n",
              "      <td>0.1980</td>\n",
              "      <td>0.10430</td>\n",
              "      <td>...</td>\n",
              "      <td>16.67</td>\n",
              "      <td>152.20</td>\n",
              "      <td>1575.0</td>\n",
              "      <td>0.1374</td>\n",
              "      <td>0.2050</td>\n",
              "      <td>0.4000</td>\n",
              "      <td>0.1625</td>\n",
              "      <td>0.2364</td>\n",
              "      <td>0.07678</td>\n",
              "      <td>NaN</td>\n",
              "    </tr>\n",
              "  </tbody>\n",
              "</table>\n",
              "<p>5 rows × 33 columns</p>\n",
              "</div>"
            ],
            "text/plain": [
              "         id diagnosis  radius_mean  texture_mean  perimeter_mean  area_mean  \\\n",
              "0    842302         M        17.99         10.38          122.80     1001.0   \n",
              "1    842517         M        20.57         17.77          132.90     1326.0   \n",
              "2  84300903         M        19.69         21.25          130.00     1203.0   \n",
              "3  84348301         M        11.42         20.38           77.58      386.1   \n",
              "4  84358402         M        20.29         14.34          135.10     1297.0   \n",
              "\n",
              "   smoothness_mean  compactness_mean  concavity_mean  concave points_mean  \\\n",
              "0          0.11840           0.27760          0.3001              0.14710   \n",
              "1          0.08474           0.07864          0.0869              0.07017   \n",
              "2          0.10960           0.15990          0.1974              0.12790   \n",
              "3          0.14250           0.28390          0.2414              0.10520   \n",
              "4          0.10030           0.13280          0.1980              0.10430   \n",
              "\n",
              "   ...  texture_worst  perimeter_worst  area_worst  smoothness_worst  \\\n",
              "0  ...          17.33           184.60      2019.0            0.1622   \n",
              "1  ...          23.41           158.80      1956.0            0.1238   \n",
              "2  ...          25.53           152.50      1709.0            0.1444   \n",
              "3  ...          26.50            98.87       567.7            0.2098   \n",
              "4  ...          16.67           152.20      1575.0            0.1374   \n",
              "\n",
              "   compactness_worst  concavity_worst  concave points_worst  symmetry_worst  \\\n",
              "0             0.6656           0.7119                0.2654          0.4601   \n",
              "1             0.1866           0.2416                0.1860          0.2750   \n",
              "2             0.4245           0.4504                0.2430          0.3613   \n",
              "3             0.8663           0.6869                0.2575          0.6638   \n",
              "4             0.2050           0.4000                0.1625          0.2364   \n",
              "\n",
              "   fractal_dimension_worst  Unnamed: 32  \n",
              "0                  0.11890          NaN  \n",
              "1                  0.08902          NaN  \n",
              "2                  0.08758          NaN  \n",
              "3                  0.17300          NaN  \n",
              "4                  0.07678          NaN  \n",
              "\n",
              "[5 rows x 33 columns]"
            ]
          },
          "execution_count": 4,
          "metadata": {},
          "output_type": "execute_result"
        }
      ],
      "source": [
        "cancer_df.head()"
      ]
    },
    {
      "cell_type": "code",
      "execution_count": 5,
      "metadata": {
        "colab": {
          "base_uri": "https://localhost:8080/",
          "height": 371
        },
        "execution": {
          "iopub.execute_input": "2022-02-15T21:12:33.537306Z",
          "iopub.status.busy": "2022-02-15T21:12:33.537055Z",
          "iopub.status.idle": "2022-02-15T21:12:34.017165Z",
          "shell.execute_reply": "2022-02-15T21:12:34.016270Z",
          "shell.execute_reply.started": "2022-02-15T21:12:33.537267Z"
        },
        "id": "cbNFKXokWulU",
        "outputId": "435ddbe3-f449-44fa-fbb3-0a9b78cda162",
        "trusted": true
      },
      "outputs": [
        {
          "data": {
            "text/plain": [
              "<AxesSubplot:>"
            ]
          },
          "execution_count": 5,
          "metadata": {},
          "output_type": "execute_result"
        },
        {
          "data": {
            "image/png": "[encoded data removed]",
            "text/plain": [
              "<Figure size 432x288 with 2 Axes>"
            ]
          },
          "metadata": {
            "needs_background": "light"
          },
          "output_type": "display_data"
        }
      ],
      "source": [
        "#Finding null values using heatmap\n",
        "sns.heatmap(cancer_df.isnull(),cmap='Reds')"
      ]
    },
    {
      "cell_type": "code",
      "execution_count": 6,
      "metadata": {
        "execution": {
          "iopub.execute_input": "2022-02-15T21:12:34.019355Z",
          "iopub.status.busy": "2022-02-15T21:12:34.019125Z",
          "iopub.status.idle": "2022-02-15T21:12:34.026682Z",
          "shell.execute_reply": "2022-02-15T21:12:34.025778Z",
          "shell.execute_reply.started": "2022-02-15T21:12:34.019327Z"
        },
        "id": "RSAEHZdhWulV",
        "trusted": true
      },
      "outputs": [],
      "source": [
        "#Drop column with null values & replace diagnosis with numerical values\n",
        "cancer_df.drop('Unnamed: 32',axis=1,inplace=True)\n",
        "cancer_df.diagnosis = [1 if each == \"M\" else 0 for each in cancer_df.diagnosis]"
      ]
    },
    {
      "cell_type": "markdown",
      "metadata": {
        "id": "IStq0HIQWulV"
      },
      "source": [
        "# EDA"
      ]
    },
    {
      "cell_type": "code",
      "execution_count": 7,
      "metadata": {
        "colab": {
          "base_uri": "https://localhost:8080/",
          "height": 691
        },
        "execution": {
          "iopub.execute_input": "2022-02-15T21:12:34.028687Z",
          "iopub.status.busy": "2022-02-15T21:12:34.028202Z",
          "iopub.status.idle": "2022-02-15T21:12:38.962398Z",
          "shell.execute_reply": "2022-02-15T21:12:38.961384Z",
          "shell.execute_reply.started": "2022-02-15T21:12:34.028637Z"
        },
        "id": "2md1JW9GWulW",
        "outputId": "387b528b-b908-49af-8a35-57bce803bd2a",
        "trusted": true
      },
      "outputs": [
        {
          "data": {
            "text/plain": [
              "<AxesSubplot:>"
            ]
          },
          "execution_count": 7,
          "metadata": {},
          "output_type": "execute_result"
        },
        {
          "data": {
            "image/png": "[encoded data removed]",
            "text/plain": [
              "<Figure size 1800x720 with 2 Axes>"
            ]
          },
          "metadata": {
            "needs_background": "light"
          },
          "output_type": "display_data"
        }
      ],
      "source": [
        "#Determine correlations using heatmap\n",
        "plt.figure(figsize = (25, 10))\n",
        "sns.heatmap(cancer_df.corr(),cmap='YlGnBu',linewidths=0.5)"
      ]
    },
    {
      "cell_type": "code",
      "execution_count": 8,
      "metadata": {
        "colab": {
          "base_uri": "https://localhost:8080/",
          "height": 351
        },
        "execution": {
          "iopub.execute_input": "2022-02-15T21:12:38.964248Z",
          "iopub.status.busy": "2022-02-15T21:12:38.963928Z",
          "iopub.status.idle": "2022-02-15T21:12:39.150269Z",
          "shell.execute_reply": "2022-02-15T21:12:39.149234Z",
          "shell.execute_reply.started": "2022-02-15T21:12:38.964210Z"
        },
        "id": "s7FoIEWIWulW",
        "outputId": "a4c2711e-371a-4179-c73e-8b55c672a235",
        "trusted": true
      },
      "outputs": [
        {
          "name": "stderr",
          "output_type": "stream",
          "text": [
            "/opt/homebrew/lib/python3.9/site-packages/seaborn/_decorators.py:36: FutureWarning: Pass the following variable as a keyword arg: x. From version 0.12, the only valid positional argument will be `data`, and passing other arguments without an explicit keyword will result in an error or misinterpretation.\n",
            "  warnings.warn(\n"
          ]
        },
        {
          "data": {
            "text/plain": [
              "<AxesSubplot:xlabel='diagnosis', ylabel='count'>"
            ]
          },
          "execution_count": 8,
          "metadata": {},
          "output_type": "execute_result"
        },
        {
          "data": {
            "image/png": "[encoded data removed]",
            "text/plain": [
              "<Figure size 432x288 with 1 Axes>"
            ]
          },
          "metadata": {
            "needs_background": "light"
          },
          "output_type": "display_data"
        }
      ],
      "source": [
        "sns.countplot(cancer_df['diagnosis'])"
      ]
    },
    {
      "cell_type": "markdown",
      "metadata": {
        "id": "BbzBC8oKWulW"
      },
      "source": [
        "# Train Test Split"
      ]
    },
    {
      "cell_type": "code",
      "execution_count": 9,
      "metadata": {
        "execution": {
          "iopub.execute_input": "2022-02-15T21:12:39.151535Z",
          "iopub.status.busy": "2022-02-15T21:12:39.151333Z",
          "iopub.status.idle": "2022-02-15T21:12:39.160537Z",
          "shell.execute_reply": "2022-02-15T21:12:39.159890Z",
          "shell.execute_reply.started": "2022-02-15T21:12:39.151510Z"
        },
        "id": "gDnoAXRSWulX",
        "trusted": true
      },
      "outputs": [],
      "source": [
        "#Choosing features and label\n",
        "Features = cancer_df[['radius_mean', 'texture_mean', 'perimeter_mean',\n",
        "       'area_mean', 'smoothness_mean', 'compactness_mean', 'concavity_mean',\n",
        "       'concave points_mean', 'symmetry_mean', 'fractal_dimension_mean',\n",
        "       'radius_se', 'texture_se', 'perimeter_se', 'area_se', 'smoothness_se',\n",
        "       'compactness_se', 'concavity_se', 'concave points_se', 'symmetry_se',\n",
        "       'fractal_dimension_se', 'radius_worst', 'texture_worst',\n",
        "       'perimeter_worst', 'area_worst', 'smoothness_worst',\n",
        "       'compactness_worst', 'concavity_worst', 'concave points_worst',\n",
        "       'symmetry_worst', 'fractal_dimension_worst']]\n",
        "\n",
        "Label = cancer_df['diagnosis']"
      ]
    },
    {
      "cell_type": "code",
      "execution_count": 10,
      "metadata": {
        "execution": {
          "iopub.execute_input": "2022-02-15T21:12:39.162341Z",
          "iopub.status.busy": "2022-02-15T21:12:39.161526Z",
          "iopub.status.idle": "2022-02-15T21:12:39.184738Z",
          "shell.execute_reply": "2022-02-15T21:12:39.183929Z",
          "shell.execute_reply.started": "2022-02-15T21:12:39.162305Z"
        },
        "id": "9heV4SK3WulX",
        "trusted": true
      },
      "outputs": [],
      "source": [
        "scaler = StandardScaler()\n",
        "scaler.fit(Features)\n",
        "scaled = scaler.transform(Features)"
      ]
    },
    {
      "cell_type": "code",
      "execution_count": 11,
      "metadata": {
        "execution": {
          "iopub.execute_input": "2022-02-15T21:12:39.187158Z",
          "iopub.status.busy": "2022-02-15T21:12:39.186760Z",
          "iopub.status.idle": "2022-02-15T21:12:39.191577Z",
          "shell.execute_reply": "2022-02-15T21:12:39.190912Z",
          "shell.execute_reply.started": "2022-02-15T21:12:39.187113Z"
        },
        "id": "PaVqBbhqWulX",
        "trusted": true
      },
      "outputs": [],
      "source": [
        "from sklearn.model_selection import train_test_split"
      ]
    },
    {
      "cell_type": "code",
      "execution_count": 12,
      "metadata": {
        "execution": {
          "iopub.execute_input": "2022-02-15T21:12:39.192678Z",
          "iopub.status.busy": "2022-02-15T21:12:39.192431Z",
          "iopub.status.idle": "2022-02-15T21:12:39.204992Z",
          "shell.execute_reply": "2022-02-15T21:12:39.204059Z",
          "shell.execute_reply.started": "2022-02-15T21:12:39.192648Z"
        },
        "id": "RRmK0G0BWulY",
        "trusted": true
      },
      "outputs": [],
      "source": [
        "# split dataset into train, test data\n",
        "X = scaled\n",
        "y = Label\n",
        "X_train, X_test, y_train, y_test = train_test_split(X, y, test_size=0.3)"
      ]
    },
    {
      "cell_type": "markdown",
      "metadata": {
        "id": "t03g-42kWule"
      },
      "source": [
        "# Logistic Regression"
      ]
    },
    {
      "cell_type": "code",
      "execution_count": 13,
      "metadata": {
        "execution": {
          "iopub.execute_input": "2022-02-15T21:12:40.392813Z",
          "iopub.status.busy": "2022-02-15T21:12:40.392595Z",
          "iopub.status.idle": "2022-02-15T21:12:40.397584Z",
          "shell.execute_reply": "2022-02-15T21:12:40.396640Z",
          "shell.execute_reply.started": "2022-02-15T21:12:40.392785Z"
        },
        "id": "vRW4mUtPWule",
        "trusted": true
      },
      "outputs": [],
      "source": [
        "from sklearn.linear_model import LogisticRegression\n",
        "lr = LogisticRegression(solver='liblinear',C=1,max_iter=30,multi_class='auto')"
      ]
    },
    {
      "cell_type": "code",
      "execution_count": 14,
      "metadata": {
        "colab": {
          "base_uri": "https://localhost:8080/"
        },
        "execution": {
          "iopub.execute_input": "2022-02-15T21:12:40.399246Z",
          "iopub.status.busy": "2022-02-15T21:12:40.398964Z",
          "iopub.status.idle": "2022-02-15T21:12:40.412834Z",
          "shell.execute_reply": "2022-02-15T21:12:40.412291Z",
          "shell.execute_reply.started": "2022-02-15T21:12:40.399217Z"
        },
        "id": "Rn3ggcEqWule",
        "outputId": "666c61e6-edc0-40e0-92a7-ce7e99e9cbc6",
        "trusted": true
      },
      "outputs": [
        {
          "data": {
            "text/plain": [
              "LogisticRegression(C=1, max_iter=30, solver='liblinear')"
            ]
          },
          "execution_count": 14,
          "metadata": {},
          "output_type": "execute_result"
        }
      ],
      "source": [
        "lr.fit(X_train,y_train)"
      ]
    },
    {
      "cell_type": "code",
      "execution_count": 15,
      "metadata": {
        "execution": {
          "iopub.execute_input": "2022-02-15T21:12:40.414712Z",
          "iopub.status.busy": "2022-02-15T21:12:40.414279Z",
          "iopub.status.idle": "2022-02-15T21:12:40.418505Z",
          "shell.execute_reply": "2022-02-15T21:12:40.417906Z",
          "shell.execute_reply.started": "2022-02-15T21:12:40.414680Z"
        },
        "id": "6RxeU_M2Wule",
        "trusted": true
      },
      "outputs": [],
      "source": [
        "logpred = lr.predict(X_test)"
      ]
    },
    {
      "cell_type": "code",
      "execution_count": 16,
      "metadata": {
        "colab": {
          "base_uri": "https://localhost:8080/"
        },
        "execution": {
          "iopub.execute_input": "2022-02-15T21:12:40.420163Z",
          "iopub.status.busy": "2022-02-15T21:12:40.419738Z",
          "iopub.status.idle": "2022-02-15T21:12:40.436169Z",
          "shell.execute_reply": "2022-02-15T21:12:40.435357Z",
          "shell.execute_reply.started": "2022-02-15T21:12:40.420130Z"
        },
        "id": "iey4tbiEWule",
        "outputId": "3b6a2e19-53e1-40b0-d1d3-5167c44c6fcd",
        "trusted": true
      },
      "outputs": [
        {
          "name": "stdout",
          "output_type": "stream",
          "text": [
            "Logistic Regression\n",
            "\n",
            "              precision    recall  f1-score   support\n",
            "\n",
            "           0       0.98      0.99      0.99       108\n",
            "           1       0.98      0.97      0.98        63\n",
            "\n",
            "    accuracy                           0.98       171\n",
            "   macro avg       0.98      0.98      0.98       171\n",
            "weighted avg       0.98      0.98      0.98       171\n",
            "\n",
            "\n",
            "confusion matrix\n",
            "[[107   1]\n",
            " [  2  61]]\n"
          ]
        }
      ],
      "source": [
        "print('Logistic Regression' + '\\n')\n",
        "print(classification_report(y_test,logpred))\n",
        "print('\\n' + 'confusion matrix')\n",
        "print(confusion_matrix(y_test,logpred))"
      ]
    },
    {
      "cell_type": "code",
      "execution_count": 17,
      "metadata": {
        "colab": {
          "base_uri": "https://localhost:8080/",
          "height": 282
        },
        "execution": {
          "iopub.execute_input": "2022-02-15T21:12:40.438422Z",
          "iopub.status.busy": "2022-02-15T21:12:40.437500Z",
          "iopub.status.idle": "2022-02-15T21:12:40.654710Z",
          "shell.execute_reply": "2022-02-15T21:12:40.653785Z",
          "shell.execute_reply.started": "2022-02-15T21:12:40.438376Z"
        },
        "id": "8v5HvvnCWulf",
        "outputId": "6bc61c10-36f1-4655-d952-f12bbff8ac19",
        "trusted": true
      },
      "outputs": [
        {
          "data": {
            "text/plain": [
              "<AxesSubplot:>"
            ]
          },
          "execution_count": 17,
          "metadata": {},
          "output_type": "execute_result"
        },
        {
          "data": {
            "image/png": "[encoded data removed]",
            "text/plain": [
              "<Figure size 432x288 with 2 Axes>"
            ]
          },
          "metadata": {
            "needs_background": "light"
          },
          "output_type": "display_data"
        }
      ],
      "source": [
        "# fraw confusion matrix using heatmap\n",
        "sns.heatmap(confusion_matrix(y_test,logpred), annot=True,fmt='g')"
      ]
    },
    {
      "cell_type": "code",
      "execution_count": 18,
      "metadata": {},
      "outputs": [
        {
          "data": {
            "text/plain": [
              "SVC(C=1)"
            ]
          },
          "execution_count": 18,
          "metadata": {},
          "output_type": "execute_result"
        }
      ],
      "source": [
        "# train and fit data into SVC\n",
        "\n",
        "from sklearn.svm import SVC\n",
        "svm_model = SVC(C=1,kernel='rbf',cache_size=200)\n",
        "svm_model.fit(X_train,y_train)"
      ]
    },
    {
      "cell_type": "code",
      "execution_count": 19,
      "metadata": {},
      "outputs": [],
      "source": [
        "svc_pred = svm_model.predict(X_test)"
      ]
    },
    {
      "cell_type": "code",
      "execution_count": 20,
      "metadata": {},
      "outputs": [
        {
          "name": "stdout",
          "output_type": "stream",
          "text": [
            "Support Vector Classifier\n",
            "\n",
            "              precision    recall  f1-score   support\n",
            "\n",
            "           0       0.97      0.99      0.98       108\n",
            "           1       0.98      0.95      0.97        63\n",
            "\n",
            "    accuracy                           0.98       171\n",
            "   macro avg       0.98      0.97      0.97       171\n",
            "weighted avg       0.98      0.98      0.98       171\n",
            "\n",
            "\n",
            "confusion matrix\n",
            "[[107   1]\n",
            " [  3  60]]\n"
          ]
        }
      ],
      "source": [
        "print('Support Vector Classifier' + '\\n')\n",
        "print(classification_report(y_test,svc_pred))\n",
        "print('\\n' + 'confusion matrix')\n",
        "print(confusion_matrix(y_test,svc_pred))\n"
      ]
    },
    {
      "cell_type": "code",
      "execution_count": 21,
      "metadata": {},
      "outputs": [
        {
          "data": {
            "text/plain": [
              "<AxesSubplot:>"
            ]
          },
          "execution_count": 21,
          "metadata": {},
          "output_type": "execute_result"
        },
        {
          "data": {
            "image/png": "[encoded data removed]",
            "text/plain": [
              "<Figure size 432x288 with 2 Axes>"
            ]
          },
          "metadata": {
            "needs_background": "light"
          },
          "output_type": "display_data"
        }
      ],
      "source": [
        "# draw confusion matrix using heatmap\n",
        "sns.heatmap(confusion_matrix(y_test,svc_pred), annot=True,fmt='g')"
      ]
    },
    {
      "cell_type": "code",
      "execution_count": null,
      "metadata": {},
      "outputs": [],
      "source": []
    }
  ],
  "metadata": {
    "colab": {
      "name": "Breast_Cancer_Wisconsin.ipynb",
      "provenance": []
    },
    "kernelspec": {
      "display_name": "Python 3",
      "language": "python",
      "name": "python3"
    },
    "language_info": {
      "codemirror_mode": {
        "name": "ipython",
        "version": 3
      },
      "file_extension": ".py",
      "mimetype": "text/x-python",
      "name": "python",
      "nbconvert_exporter": "python",
      "pygments_lexer": "ipython3",
      "version": "3.9.7"
    }
  },
  "nbformat": 4,
  "nbformat_minor": 0
}
